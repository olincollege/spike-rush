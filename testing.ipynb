{
 "cells": [
  {
   "cell_type": "code",
   "execution_count": 6,
   "metadata": {},
   "outputs": [],
   "source": [
    "import test_map"
   ]
  },
  {
   "cell_type": "code",
   "execution_count": null,
   "metadata": {},
   "outputs": [],
   "source": []
  },
  {
   "cell_type": "code",
   "execution_count": null,
   "metadata": {},
   "outputs": [],
   "source": [
    "test_map.map_test()"
   ]
  },
  {
   "cell_type": "code",
   "execution_count": 2,
   "metadata": {},
   "outputs": [
    {
     "ename": "ImportError",
     "evalue": "cannot import name 'frame_rate' from partially initialized module 'run_game' (most likely due to a circular import) (c:\\Users\\aphillips\\OneDrive - Olin College of Engineering\\Desktop\\School\\spike-rush\\run_game.py)",
     "output_type": "error",
     "traceback": [
      "\u001b[1;31m---------------------------------------------------------------------------\u001b[0m",
      "\u001b[1;31mImportError\u001b[0m                               Traceback (most recent call last)",
      "\u001b[1;32mc:\\Users\\aphillips\\OneDrive - Olin College of Engineering\\Desktop\\School\\spike-rush\\testing.ipynb Cell 4'\u001b[0m in \u001b[0;36m<cell line: 1>\u001b[1;34m()\u001b[0m\n\u001b[1;32m----> <a href='vscode-notebook-cell:/c%3A/Users/aphillips/OneDrive%20-%20Olin%20College%20of%20Engineering/Desktop/School/spike-rush/testing.ipynb#ch0000003?line=0'>1</a>\u001b[0m \u001b[39mimport\u001b[39;00m \u001b[39mrun_game\u001b[39;00m\n\u001b[0;32m      <a href='vscode-notebook-cell:/c%3A/Users/aphillips/OneDrive%20-%20Olin%20College%20of%20Engineering/Desktop/School/spike-rush/testing.ipynb#ch0000003?line=2'>3</a>\u001b[0m run_game\u001b[39m.\u001b[39mguns_test()\n",
      "File \u001b[1;32mc:\\Users\\aphillips\\OneDrive - Olin College of Engineering\\Desktop\\School\\spike-rush\\run_game.py:6\u001b[0m, in \u001b[0;36m<module>\u001b[1;34m\u001b[0m\n\u001b[0;32m      <a href='file:///c%3A/Users/aphillips/OneDrive%20-%20Olin%20College%20of%20Engineering/Desktop/School/spike-rush/run_game.py?line=3'>4</a>\u001b[0m \u001b[39m# for guns test\u001b[39;00m\n\u001b[0;32m      <a href='file:///c%3A/Users/aphillips/OneDrive%20-%20Olin%20College%20of%20Engineering/Desktop/School/spike-rush/run_game.py?line=4'>5</a>\u001b[0m \u001b[39mimport\u001b[39;00m \u001b[39mpygame\u001b[39;00m\n\u001b[1;32m----> <a href='file:///c%3A/Users/aphillips/OneDrive%20-%20Olin%20College%20of%20Engineering/Desktop/School/spike-rush/run_game.py?line=5'>6</a>\u001b[0m \u001b[39mfrom\u001b[39;00m \u001b[39mplayers_guns_bullets\u001b[39;00m \u001b[39mimport\u001b[39;00m \u001b[39m*\u001b[39m\n\u001b[0;32m      <a href='file:///c%3A/Users/aphillips/OneDrive%20-%20Olin%20College%20of%20Engineering/Desktop/School/spike-rush/run_game.py?line=6'>7</a>\u001b[0m \u001b[39mfrom\u001b[39;00m \u001b[39mtest_map\u001b[39;00m \u001b[39mimport\u001b[39;00m \u001b[39m*\u001b[39m\n\u001b[0;32m      <a href='file:///c%3A/Users/aphillips/OneDrive%20-%20Olin%20College%20of%20Engineering/Desktop/School/spike-rush/run_game.py?line=7'>8</a>\u001b[0m \u001b[39mimport\u001b[39;00m \u001b[39mrandom\u001b[39;00m\n",
      "File \u001b[1;32mc:\\Users\\aphillips\\OneDrive - Olin College of Engineering\\Desktop\\School\\spike-rush\\players_guns_bullets.py:4\u001b[0m, in \u001b[0;36m<module>\u001b[1;34m\u001b[0m\n\u001b[0;32m      <a href='file:///c%3A/Users/aphillips/OneDrive%20-%20Olin%20College%20of%20Engineering/Desktop/School/spike-rush/players_guns_bullets.py?line=1'>2</a>\u001b[0m \u001b[39mfrom\u001b[39;00m \u001b[39mrandom\u001b[39;00m \u001b[39mimport\u001b[39;00m randint, randrange\n\u001b[0;32m      <a href='file:///c%3A/Users/aphillips/OneDrive%20-%20Olin%20College%20of%20Engineering/Desktop/School/spike-rush/players_guns_bullets.py?line=2'>3</a>\u001b[0m \u001b[39mimport\u001b[39;00m \u001b[39mpygame\u001b[39;00m\n\u001b[1;32m----> <a href='file:///c%3A/Users/aphillips/OneDrive%20-%20Olin%20College%20of%20Engineering/Desktop/School/spike-rush/players_guns_bullets.py?line=3'>4</a>\u001b[0m \u001b[39mfrom\u001b[39;00m \u001b[39mrun_game\u001b[39;00m \u001b[39mimport\u001b[39;00m frame_rate\n\u001b[0;32m      <a href='file:///c%3A/Users/aphillips/OneDrive%20-%20Olin%20College%20of%20Engineering/Desktop/School/spike-rush/players_guns_bullets.py?line=5'>6</a>\u001b[0m \u001b[39m#don't wworryy about this\u001b[39;00m\n\u001b[0;32m      <a href='file:///c%3A/Users/aphillips/OneDrive%20-%20Olin%20College%20of%20Engineering/Desktop/School/spike-rush/players_guns_bullets.py?line=6'>7</a>\u001b[0m \u001b[39mclass\u001b[39;00m \u001b[39mplayer_test\u001b[39;00m():\n",
      "\u001b[1;31mImportError\u001b[0m: cannot import name 'frame_rate' from partially initialized module 'run_game' (most likely due to a circular import) (c:\\Users\\aphillips\\OneDrive - Olin College of Engineering\\Desktop\\School\\spike-rush\\run_game.py)"
     ]
    }
   ],
   "source": [
    "import run_game\n",
    "\n",
    "run_game.guns_test()"
   ]
  },
  {
   "cell_type": "code",
   "execution_count": 2,
   "metadata": {},
   "outputs": [],
   "source": [
    "import movement\n",
    "movement.movement_test()"
   ]
  },
  {
   "cell_type": "code",
   "execution_count": null,
   "metadata": {},
   "outputs": [],
   "source": []
  }
 ],
 "metadata": {
  "interpreter": {
   "hash": "d8b9e368c7c6bad9dfe3af1d0bc5bd8bf44c53ff0319eea12fd05f99021ec489"
  },
  "kernelspec": {
   "display_name": "Python 3.9.7 ('base')",
   "language": "python",
   "name": "python3"
  },
  "language_info": {
   "codemirror_mode": {
    "name": "ipython",
    "version": 3
   },
   "file_extension": ".py",
   "mimetype": "text/x-python",
   "name": "python",
   "nbconvert_exporter": "python",
   "pygments_lexer": "ipython3",
   "version": "3.9.12"
  },
  "orig_nbformat": 4
 },
 "nbformat": 4,
 "nbformat_minor": 2
}
